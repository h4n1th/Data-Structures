{
 "cells": [
  {
   "cell_type": "code",
   "execution_count": 1,
   "id": "679af3ac-0421-491f-af97-d89a02c8342f",
   "metadata": {},
   "outputs": [
    {
     "name": "stdout",
     "output_type": "stream",
     "text": [
      "Hello Wrld\n"
     ]
    }
   ],
   "source": [
    "print('Hello Wrld')"
   ]
  },
  {
   "cell_type": "code",
   "execution_count": 2,
   "id": "7899acb7-4250-4bc6-b90f-c4977e06c94e",
   "metadata": {},
   "outputs": [
    {
     "data": {
      "text/plain": [
       "[1, 2, 3, 4]"
      ]
     },
     "execution_count": 2,
     "metadata": {},
     "output_type": "execute_result"
    }
   ],
   "source": [
    "a=[1,2,3,4]\n",
    "a"
   ]
  },
  {
   "cell_type": "code",
   "execution_count": 3,
   "id": "6f6b7a3f-d51e-42c0-a8ff-1cb60ae9fdf0",
   "metadata": {},
   "outputs": [
    {
     "name": "stdout",
     "output_type": "stream",
     "text": [
      "<class 'list'>\n"
     ]
    }
   ],
   "source": [
    "print(type(a))"
   ]
  },
  {
   "cell_type": "code",
   "execution_count": 4,
   "id": "9d0423ff-0f37-4f8b-8742-78fabd6f9626",
   "metadata": {},
   "outputs": [
    {
     "data": {
      "text/plain": [
       "[25, 'Hello World', True, 15.6]"
      ]
     },
     "execution_count": 4,
     "metadata": {},
     "output_type": "execute_result"
    }
   ],
   "source": [
    "b=[25,'Hello World',True,15.6]\n",
    "b"
   ]
  },
  {
   "cell_type": "code",
   "execution_count": 5,
   "id": "0cf1f476-f9ed-43f1-8ee7-9de9fa3a8c7d",
   "metadata": {},
   "outputs": [
    {
     "data": {
      "text/plain": [
       "list"
      ]
     },
     "execution_count": 5,
     "metadata": {},
     "output_type": "execute_result"
    }
   ],
   "source": [
    "type(b)"
   ]
  },
  {
   "cell_type": "code",
   "execution_count": 6,
   "id": "18767d7a-a68e-43af-98a1-e2376ff81a6b",
   "metadata": {},
   "outputs": [
    {
     "data": {
      "text/plain": [
       "['Apple', 'Banana', 'Orange', 'Mango']"
      ]
     },
     "execution_count": 6,
     "metadata": {},
     "output_type": "execute_result"
    }
   ],
   "source": [
    "c=['Apple','Banana','Orange','Mango']\n",
    "c"
   ]
  },
  {
   "cell_type": "code",
   "execution_count": 7,
   "id": "bbd67ff0-6f38-4c5c-9e64-3a16c7ad5155",
   "metadata": {},
   "outputs": [
    {
     "data": {
      "text/plain": [
       "[1.1, 2.2, 3.3, 4.4, 5.5]"
      ]
     },
     "execution_count": 7,
     "metadata": {},
     "output_type": "execute_result"
    }
   ],
   "source": [
    "d=[1.1,2.2,3.3,4.4,5.5]\n",
    "d"
   ]
  },
  {
   "cell_type": "code",
   "execution_count": 8,
   "id": "0355aa44-2e23-4dc6-96cf-e52e91eca99a",
   "metadata": {},
   "outputs": [
    {
     "data": {
      "text/plain": [
       "list"
      ]
     },
     "execution_count": 8,
     "metadata": {},
     "output_type": "execute_result"
    }
   ],
   "source": [
    "type(d)"
   ]
  },
  {
   "cell_type": "code",
   "execution_count": 9,
   "id": "efdb213a-d9c4-4007-acb2-96db11ec2c4a",
   "metadata": {},
   "outputs": [
    {
     "data": {
      "text/plain": [
       "list"
      ]
     },
     "execution_count": 9,
     "metadata": {},
     "output_type": "execute_result"
    }
   ],
   "source": [
    "e=[True,False]\n",
    "e\n",
    "type(e)"
   ]
  },
  {
   "cell_type": "code",
   "execution_count": 13,
   "id": "660b5aa0-7a3a-4fa0-bb27-6e82deb86412",
   "metadata": {},
   "outputs": [
    {
     "name": "stdout",
     "output_type": "stream",
     "text": [
      "<class 'list'>\n"
     ]
    },
    {
     "data": {
      "text/plain": [
       "[1, 'Orange', 25.5, True, 'Apple', 'List', 56, 'Hello World', 2, 10.0]"
      ]
     },
     "execution_count": 13,
     "metadata": {},
     "output_type": "execute_result"
    }
   ],
   "source": [
    "#List Creation\n",
    "L1=[1,'Orange',25.5,True,'Apple','List',56,\"Hello World\",2,10.0]\n",
    "print(type(L1))\n",
    "L1"
   ]
  },
  {
   "cell_type": "code",
   "execution_count": 16,
   "id": "e441567c-c626-43a8-a3e8-c574e1bb680f",
   "metadata": {},
   "outputs": [
    {
     "data": {
      "text/plain": [
       "10"
      ]
     },
     "execution_count": 16,
     "metadata": {},
     "output_type": "execute_result"
    }
   ],
   "source": [
    "#Length of a list\n",
    "len(L1)"
   ]
  },
  {
   "cell_type": "code",
   "execution_count": 17,
   "id": "c2f26163-47cf-4f62-aeb4-d2065e8de06f",
   "metadata": {},
   "outputs": [
    {
     "data": {
      "text/plain": [
       "1"
      ]
     },
     "execution_count": 17,
     "metadata": {},
     "output_type": "execute_result"
    }
   ],
   "source": [
    "#Indexing of a List\n",
    "L1[0]"
   ]
  },
  {
   "cell_type": "code",
   "execution_count": 18,
   "id": "67400ce3-87fb-4948-a6a4-0403485efe96",
   "metadata": {},
   "outputs": [
    {
     "data": {
      "text/plain": [
       "10.0"
      ]
     },
     "execution_count": 18,
     "metadata": {},
     "output_type": "execute_result"
    }
   ],
   "source": [
    "L1[9]"
   ]
  },
  {
   "cell_type": "code",
   "execution_count": 19,
   "id": "da49a318-45b3-4b34-aa22-37d143dbb601",
   "metadata": {},
   "outputs": [
    {
     "data": {
      "text/plain": [
       "[10.0, 2, 'Hello World', 56, 'List', 'Apple', True, 25.5, 'Orange', 1]"
      ]
     },
     "execution_count": 19,
     "metadata": {},
     "output_type": "execute_result"
    }
   ],
   "source": [
    "#Reversing a List\n",
    "L1[::-1]"
   ]
  },
  {
   "cell_type": "code",
   "execution_count": 20,
   "id": "2cde4308-4011-4a54-bab2-2919ee22c11e",
   "metadata": {},
   "outputs": [
    {
     "data": {
      "text/plain": [
       "10.0"
      ]
     },
     "execution_count": 20,
     "metadata": {},
     "output_type": "execute_result"
    }
   ],
   "source": [
    "#Last number of a List\n",
    "L1[-1]"
   ]
  },
  {
   "cell_type": "code",
   "execution_count": 21,
   "id": "de6e4627-a1c6-4a00-bd17-9b78e48b8e8a",
   "metadata": {},
   "outputs": [
    {
     "data": {
      "text/plain": [
       "[25.5, True, 'Apple', 'List']"
      ]
     },
     "execution_count": 21,
     "metadata": {},
     "output_type": "execute_result"
    }
   ],
   "source": [
    "#Slicing\n",
    "L1[2:6]"
   ]
  },
  {
   "cell_type": "code",
   "execution_count": 22,
   "id": "369347d7-2aa6-4ccf-80a2-490b325c0734",
   "metadata": {},
   "outputs": [
    {
     "data": {
      "text/plain": [
       "[1, 'Orange', 25.5, True, 'Apple', 'List', 56, 'Hello World', 2, 10.0, 6]"
      ]
     },
     "execution_count": 22,
     "metadata": {},
     "output_type": "execute_result"
    }
   ],
   "source": [
    "#Appending a List\n",
    "L1.append(6)\n",
    "L1"
   ]
  },
  {
   "cell_type": "code",
   "execution_count": 23,
   "id": "1d4f75c8-962c-4492-8929-276db520ab28",
   "metadata": {},
   "outputs": [],
   "source": [
    "#Insertion of List\n",
    "L1.insert(0,8)"
   ]
  },
  {
   "cell_type": "code",
   "execution_count": 24,
   "id": "1866411d-05e2-4a86-bcdc-01af968ccf2e",
   "metadata": {},
   "outputs": [
    {
     "data": {
      "text/plain": [
       "[8, 1, 'Orange', 25.5, True, 'Apple', 'List', 56, 'Hello World', 2, 10.0, 6]"
      ]
     },
     "execution_count": 24,
     "metadata": {},
     "output_type": "execute_result"
    }
   ],
   "source": [
    "L1"
   ]
  },
  {
   "cell_type": "code",
   "execution_count": 26,
   "id": "d808a378-6730-466d-97dd-a75c2a0b6414",
   "metadata": {
    "scrolled": true
   },
   "outputs": [
    {
     "data": {
      "text/plain": [
       "[8,\n",
       " 1,\n",
       " 'Orange',\n",
       " 25.5,\n",
       " True,\n",
       " 12,\n",
       " 12,\n",
       " 'Apple',\n",
       " 'List',\n",
       " 56,\n",
       " 'Hello World',\n",
       " 2,\n",
       " 10.0,\n",
       " 6]"
      ]
     },
     "execution_count": 26,
     "metadata": {},
     "output_type": "execute_result"
    }
   ],
   "source": [
    "L1.insert(5,12)\n",
    "L1"
   ]
  },
  {
   "cell_type": "code",
   "execution_count": 27,
   "id": "3b3914a7-3713-4a82-8149-c765fbb58f90",
   "metadata": {},
   "outputs": [
    {
     "data": {
      "text/plain": [
       "list"
      ]
     },
     "execution_count": 27,
     "metadata": {},
     "output_type": "execute_result"
    }
   ],
   "source": [
    "type(L1)"
   ]
  },
  {
   "cell_type": "code",
   "execution_count": 31,
   "id": "2cca246a-374b-4f1a-9c38-602ba8ccf94a",
   "metadata": {},
   "outputs": [
    {
     "data": {
      "text/plain": [
       "[8, 1, 'Orange', 25.5, True, 'Apple', 'List', 56, 'Hello World', 2, 10.0, 6]"
      ]
     },
     "execution_count": 31,
     "metadata": {},
     "output_type": "execute_result"
    }
   ],
   "source": [
    "#Deletion of elements in a List\n",
    "L1.remove(12)\n",
    "L1"
   ]
  },
  {
   "cell_type": "code",
   "execution_count": 32,
   "id": "1ba64d82-2dc6-4092-b5c9-791e2f40679f",
   "metadata": {},
   "outputs": [],
   "source": [
    "L1.append(6)"
   ]
  },
  {
   "cell_type": "code",
   "execution_count": 33,
   "id": "11ef9e74-3425-46b5-9857-8cf6bfb92881",
   "metadata": {},
   "outputs": [
    {
     "data": {
      "text/plain": [
       "[8, 1, 'Orange', 25.5, True, 'Apple', 'List', 56, 'Hello World', 2, 10.0, 6]"
      ]
     },
     "execution_count": 33,
     "metadata": {},
     "output_type": "execute_result"
    }
   ],
   "source": [
    "L1.remove(6)\n",
    "L1"
   ]
  },
  {
   "cell_type": "code",
   "execution_count": 34,
   "id": "91555a00-73ab-4ccc-9ade-613e379f377a",
   "metadata": {},
   "outputs": [],
   "source": [
    "#Deletion of specific value using del function\n",
    "del L1[1]"
   ]
  },
  {
   "cell_type": "code",
   "execution_count": 35,
   "id": "864f4258-f144-43a0-b92a-26a10409a6dc",
   "metadata": {},
   "outputs": [
    {
     "data": {
      "text/plain": [
       "[8, 'Orange', 25.5, True, 'Apple', 'List', 56, 'Hello World', 2, 10.0, 6]"
      ]
     },
     "execution_count": 35,
     "metadata": {},
     "output_type": "execute_result"
    }
   ],
   "source": [
    "L1"
   ]
  },
  {
   "cell_type": "code",
   "execution_count": null,
   "id": "db69a2f1-22ed-42df-bf12-32c45d89c1fd",
   "metadata": {},
   "outputs": [],
   "source": []
  }
 ],
 "metadata": {
  "kernelspec": {
   "display_name": "Python 3 (ipykernel)",
   "language": "python",
   "name": "python3"
  },
  "language_info": {
   "codemirror_mode": {
    "name": "ipython",
    "version": 3
   },
   "file_extension": ".py",
   "mimetype": "text/x-python",
   "name": "python",
   "nbconvert_exporter": "python",
   "pygments_lexer": "ipython3",
   "version": "3.13.5"
  }
 },
 "nbformat": 4,
 "nbformat_minor": 5
}
